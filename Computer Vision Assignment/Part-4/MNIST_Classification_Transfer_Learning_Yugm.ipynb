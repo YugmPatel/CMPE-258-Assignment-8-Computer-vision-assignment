{
  "nbformat": 4,
  "nbformat_minor": 0,
  "metadata": {
    "colab": {
      "provenance": [],
      "gpuType": "T4"
    },
    "kernelspec": {
      "name": "python3",
      "display_name": "Python 3"
    },
    "language_info": {
      "name": "python"
    },
    "accelerator": "GPU"
  },
  "cells": [
    {
      "cell_type": "markdown",
      "source": [
        "# ✍️ MNIST Classification with Transfer Learning Models\n",
        "\n",
        "This Colab notebook explores the classic task of **handwritten digit classification** using the **MNIST** dataset.  \n",
        "We apply and evaluate various **deep learning strategies**, including:\n",
        "\n",
        "- 🔹 **EfficientNetB0**: A highly efficient CNN model pre-trained on ImageNet\n",
        "- 🔹 **ResNet50V2 (BiT-inspired)**: A deep residual network simulating the Big Transfer approach\n",
        "- 🔹 **ConvNeXt (simplified)**: A modern convolutional architecture inspired by Transformer design\n",
        "\n",
        "---\n",
        "\n",
        "### 📦 Dataset: MNIST\n",
        "\n",
        "- 70,000 grayscale images of handwritten digits (0–9)\n",
        "- Image dimensions: 28x28 pixels\n",
        "- A standard benchmark in computer vision for evaluating model performance\n",
        "\n",
        "---\n",
        "\n",
        "### 🎯 Objectives\n",
        "\n",
        "- Adapt pre-trained RGB models to handle **grayscale MNIST images**\n",
        "- Evaluate and compare model performance through accuracy and loss curves\n",
        "- Visualize predictions and understand learning behavior\n",
        "- Highlight how **transfer learning** and **next-gen CNN architectures** can still benefit even simple datasets\n",
        "\n",
        "This notebook offers a practical look at how modern deep learning models perform on **digit classification**, making it a great starting point for beginners and a solid benchmark for comparing architectures.\n"
      ],
      "metadata": {
        "id": "0NUsoiW4Eu7T"
      }
    },
    {
      "cell_type": "markdown",
      "source": [
        "## ⚙️ Setup and Data Loading\n",
        "\n",
        "In this section, we perform the initial setup and load the **MNIST dataset**:\n",
        "\n",
        "---\n",
        "\n",
        "### 🔧 Setup Steps:\n",
        "\n",
        "1. **Import Required Libraries**  \n",
        "   We load essential Python libraries for model building (`TensorFlow`, `Keras`), data manipulation (`NumPy`), and visualization (`Matplotlib`).\n",
        "\n",
        "2. **Load the MNIST Dataset**  \n",
        "   Using `tf.keras.datasets.mnist`, we load the dataset, which contains:\n",
        "   - 60,000 training images\n",
        "   - 10,000 test images\n",
        "   - Each image is a `28x28` grayscale digit from 0 to 9\n",
        "\n",
        "3. **Split and Prepare Data**  \n",
        "   - Normalize pixel values to the range `[0, 1]`\n",
        "   - Optionally reserve a **validation set** from the training data\n",
        "   - Reshape and expand dimensions to simulate RGB channels if using pre-trained models\n",
        "\n",
        "---\n",
        "\n",
        "This prepares the MNIST data for further preprocessing, modeling, and evaluation using **transfer learning architectures**.\n"
      ],
      "metadata": {
        "id": "qjx-4-bIEwk9"
      }
    },
    {
      "cell_type": "code",
      "source": [
        "# Import necessary libraries\n",
        "import tensorflow as tf\n",
        "from tensorflow import keras\n",
        "from tensorflow.keras import layers\n",
        "import tensorflow_hub as hub\n",
        "import numpy as np\n",
        "import matplotlib.pyplot as plt\n",
        "import time\n",
        "\n",
        "# Set random seed for reproducibility\n",
        "tf.random.set_seed(42)\n",
        "\n",
        "# Load MNIST dataset\n",
        "(x_train, y_train), (x_test, y_test) = keras.datasets.mnist.load_data()\n",
        "\n",
        "# Normalize data to [0,1]\n",
        "x_train = x_train.astype(\"float32\") / 255.0\n",
        "x_test = x_test.astype(\"float32\") / 255.0\n",
        "\n",
        "# Convert labels to one-hot encoding\n",
        "y_train = keras.utils.to_categorical(y_train, 10)\n",
        "y_test = keras.utils.to_categorical(y_test, 10)\n",
        "\n",
        "# For memory efficiency, we'll use a smaller subset for transfer learning\n",
        "SAMPLE_SIZE = 5000\n",
        "indices = np.random.choice(len(x_train), SAMPLE_SIZE, replace=False)\n",
        "x_train_sample = x_train[indices]\n",
        "y_train_sample = y_train[indices]\n",
        "\n",
        "test_indices = np.random.choice(len(x_test), 1000, replace=False)\n",
        "x_test_sample = x_test[test_indices]\n",
        "y_test_sample = y_test[test_indices]\n",
        "\n",
        "# We'll use a data generator to resize images on-the-fly\n",
        "INPUT_SHAPE = (28, 28, 1)\n",
        "print(f\"Original data shape: {INPUT_SHAPE}\")\n",
        "print(f\"Training samples: {len(x_train_sample)}, Test samples: {len(x_test_sample)}\")"
      ],
      "metadata": {
        "colab": {
          "base_uri": "https://localhost:8080/"
        },
        "id": "zYW2A1vpEib1",
        "outputId": "07b0dc89-27a9-4b80-e293-32c9c03d15bb"
      },
      "execution_count": 1,
      "outputs": [
        {
          "output_type": "stream",
          "name": "stdout",
          "text": [
            "Downloading data from https://storage.googleapis.com/tensorflow/tf-keras-datasets/mnist.npz\n",
            "\u001b[1m11490434/11490434\u001b[0m \u001b[32m━━━━━━━━━━━━━━━━━━━━\u001b[0m\u001b[37m\u001b[0m \u001b[1m0s\u001b[0m 0us/step\n",
            "Original data shape: (28, 28, 1)\n",
            "Training samples: 5000, Test samples: 1000\n"
          ]
        }
      ]
    },
    {
      "cell_type": "markdown",
      "source": [
        "## 🧼 Image Preprocessing for Transfer Learning\n",
        "\n",
        "To use **pre-trained transfer learning models** like EfficientNet, ResNet50V2, or ConvNeXt, we need to adapt the **grayscale MNIST images** to meet the input expectations of these models.\n",
        "\n",
        "---\n",
        "\n",
        "### 🔄 Required Transformations:\n",
        "\n",
        "1. **Resize Images:**  \n",
        "   MNIST images are `28x28`, but most pre-trained models expect `224x224`.\n",
        "\n",
        "2. **Convert to RGB:**  \n",
        "   Since MNIST images are grayscale (single channel), we replicate the channel to create **3-channel RGB images**.\n",
        "\n",
        "3. **Normalize Pixel Values:**  \n",
        "   Scale the image pixel intensities to the `[0, 1]` range or apply **model-specific preprocessing functions** from Keras Applications.\n",
        "\n",
        "4. **Batching and Shuffling:**  \n",
        "   Prepare the dataset using `tf.data.Dataset` pipelines for efficient model training and evaluation.\n",
        "\n",
        "---\n",
        "\n",
        "These preprocessing steps allow us to **leverage transfer learning** on a dataset that originally differs in format from the models' training domain (ImageNet).\n"
      ],
      "metadata": {
        "id": "a-F2FwWHE4S1"
      }
    },
    {
      "cell_type": "code",
      "source": [
        "def prepare_for_transfer_learning(batch_x, batch_y, img_size=224):\n",
        "    \"\"\"Convert grayscale MNIST images to RGB and resize them for transfer learning models\"\"\"\n",
        "    # Add channel dimension if needed\n",
        "    if len(batch_x.shape) == 3:\n",
        "        batch_x = np.expand_dims(batch_x, -1)\n",
        "\n",
        "    # Convert to RGB by repeating the channel 3 times\n",
        "    batch_x_rgb = np.concatenate([batch_x, batch_x, batch_x], axis=-1)\n",
        "\n",
        "    # Create a dataset and use map to resize efficiently\n",
        "    dataset = tf.data.Dataset.from_tensor_slices((batch_x_rgb, batch_y))\n",
        "    dataset = dataset.map(\n",
        "        lambda x, y: (tf.image.resize(x, [img_size, img_size]), y),\n",
        "        num_parallel_calls=tf.data.AUTOTUNE\n",
        "    )\n",
        "    dataset = dataset.batch(32).prefetch(tf.data.AUTOTUNE)\n",
        "\n",
        "    return dataset\n",
        "\n",
        "# Create transfer learning datasets\n",
        "train_ds = prepare_for_transfer_learning(x_train_sample, y_train_sample)\n",
        "test_ds = prepare_for_transfer_learning(x_test_sample, y_test_sample)\n",
        "\n",
        "# Visualize a few examples\n",
        "plt.figure(figsize=(10, 5))\n",
        "for images, labels in train_ds.take(1):\n",
        "    for i in range(5):\n",
        "        plt.subplot(1, 5, i + 1)\n",
        "        plt.imshow(images[i].numpy().astype(\"uint8\"))\n",
        "        plt.title(f\"Label: {np.argmax(labels[i])}\")\n",
        "        plt.axis(\"off\")\n",
        "plt.tight_layout()\n",
        "plt.show()"
      ],
      "metadata": {
        "colab": {
          "base_uri": "https://localhost:8080/",
          "height": 241
        },
        "id": "aRfoG1-4Exw8",
        "outputId": "0f2e1c13-ef8d-4aab-c8ec-3b4178902401"
      },
      "execution_count": 2,
      "outputs": [
        {
          "output_type": "display_data",
          "data": {
            "text/plain": [
              "<Figure size 1000x500 with 5 Axes>"
            ],
            "image/png": "[encoded data removed]"
          },
          "metadata": {}
        }
      ]
    },
    {
      "cell_type": "markdown",
      "source": [
        "## ⚡ EfficientNet Transfer Learning Model\n",
        "\n",
        "In this section, we implement **transfer learning** using Keras’s built-in **EfficientNetB0** model to classify digits in the **MNIST dataset**.\n",
        "\n",
        "---\n",
        "\n",
        "### 🧠 Why EfficientNetB0?\n",
        "\n",
        "- It balances **accuracy** and **computational efficiency**\n",
        "- Pre-trained on **ImageNet**, providing strong general-purpose visual feature extraction\n",
        "- Well-suited for fine-tuning on small datasets like MNIST after appropriate preprocessing\n",
        "\n",
        "---\n",
        "\n",
        "### 🛠️ Implementation Overview\n",
        "\n",
        "- Load **EfficientNetB0** with `include_top=False` to exclude the original classifier\n",
        "- Freeze the base model layers to retain pre-trained knowledge\n",
        "- Add a custom classification head with:\n",
        "  - `GlobalAveragePooling2D`\n",
        "  - Dense layer(s) with `ReLU` activation\n",
        "  - A final `Dense(10, activation='softmax')` layer for digit classification (0–9)\n",
        "- Compile the model using:\n",
        "  - `Adam` optimizer\n",
        "  - `SparseCategoricalCrossentropy` loss\n",
        "  - `Accuracy` metric\n",
        "\n",
        "---\n",
        "\n",
        "This setup demonstrates the **flexibility of EfficientNet** in adapting to diverse domains—even with simple grayscale digit images like MNIST.\n"
      ],
      "metadata": {
        "id": "XoSN_r33FVtG"
      }
    },
    {
      "cell_type": "code",
      "source": [
        "# Let's use Keras's built-in EfficientNet implementation instead of TF Hub\n",
        "from tensorflow.keras.applications import EfficientNetB0\n",
        "from tensorflow.keras.applications.efficientnet import preprocess_input\n",
        "\n",
        "def build_efficientnet_model(input_shape=(224, 224, 3), num_classes=10):\n",
        "    # Load pre-trained EfficientNetB0 without top layers\n",
        "    base_model = EfficientNetB0(\n",
        "        weights='imagenet',\n",
        "        include_top=False,\n",
        "        input_shape=input_shape,\n",
        "        pooling='avg'\n",
        "    )\n",
        "\n",
        "    # Freeze the base model\n",
        "    base_model.trainable = False\n",
        "\n",
        "    # Create the new model\n",
        "    inputs = keras.Input(shape=input_shape)\n",
        "    # Preprocess inputs\n",
        "    x = preprocess_input(inputs)\n",
        "    # Base model\n",
        "    x = base_model(x, training=False)\n",
        "    # Add new classifier layers\n",
        "    x = layers.Dense(256, activation='relu')(x)\n",
        "    x = layers.Dropout(0.2)(x)\n",
        "    outputs = layers.Dense(num_classes, activation='softmax')(x)\n",
        "\n",
        "    model = keras.Model(inputs, outputs)\n",
        "\n",
        "    # Compile the model\n",
        "    model.compile(\n",
        "        optimizer=keras.optimizers.Adam(learning_rate=1e-4),\n",
        "        loss='categorical_crossentropy',\n",
        "        metrics=['accuracy']\n",
        "    )\n",
        "\n",
        "    return model\n",
        "\n",
        "# Create the EfficientNet model\n",
        "efficientnet_model = build_efficientnet_model()\n",
        "print(\"Model created successfully\")\n",
        "\n",
        "# We'll need to update our dataset to match the model's preprocessing\n",
        "def prepare_batch(images, labels):\n",
        "    # Convert images to float32 if they're not already\n",
        "    images = tf.cast(images, tf.float32)\n",
        "    return images, labels\n",
        "\n",
        "# Update our datasets with the preprocessing step\n",
        "train_ds = train_ds.map(prepare_batch)\n",
        "test_ds = test_ds.map(prepare_batch)\n",
        "\n",
        "# Train for just a few epochs for demonstration\n",
        "print(\"Starting training...\")\n",
        "history = efficientnet_model.fit(\n",
        "    train_ds,\n",
        "    validation_data=test_ds,\n",
        "    epochs=3,\n",
        "    verbose=1\n",
        ")\n",
        "\n",
        "# Evaluate the model\n",
        "efficientnet_results = efficientnet_model.evaluate(test_ds)\n",
        "print(f\"EfficientNet Test Loss: {efficientnet_results[0]:.4f}\")\n",
        "print(f\"EfficientNet Test Accuracy: {efficientnet_results[1]:.4f}\")"
      ],
      "metadata": {
        "colab": {
          "base_uri": "https://localhost:8080/"
        },
        "id": "EX5eq5rgE5_v",
        "outputId": "ec147559-1907-426b-de08-adbd44359c30"
      },
      "execution_count": 3,
      "outputs": [
        {
          "output_type": "stream",
          "name": "stdout",
          "text": [
            "Downloading data from https://storage.googleapis.com/keras-applications/efficientnetb0_notop.h5\n",
            "\u001b[1m16705208/16705208\u001b[0m \u001b[32m━━━━━━━━━━━━━━━━━━━━\u001b[0m\u001b[37m\u001b[0m \u001b[1m0s\u001b[0m 0us/step\n",
            "Model created successfully\n",
            "Starting training...\n",
            "Epoch 1/3\n",
            "\u001b[1m157/157\u001b[0m \u001b[32m━━━━━━━━━━━━━━━━━━━━\u001b[0m\u001b[37m\u001b[0m \u001b[1m50s\u001b[0m 169ms/step - accuracy: 0.1112 - loss: 2.3150 - val_accuracy: 0.1170 - val_loss: 2.3012\n",
            "Epoch 2/3\n",
            "\u001b[1m157/157\u001b[0m \u001b[32m━━━━━━━━━━━━━━━━━━━━\u001b[0m\u001b[37m\u001b[0m \u001b[1m7s\u001b[0m 39ms/step - accuracy: 0.1054 - loss: 2.3117 - val_accuracy: 0.1170 - val_loss: 2.3018\n",
            "Epoch 3/3\n",
            "\u001b[1m157/157\u001b[0m \u001b[32m━━━━━━━━━━━━━━━━━━━━\u001b[0m\u001b[37m\u001b[0m \u001b[1m6s\u001b[0m 37ms/step - accuracy: 0.1070 - loss: 2.3078 - val_accuracy: 0.1170 - val_loss: 2.3008\n",
            "\u001b[1m32/32\u001b[0m \u001b[32m━━━━━━━━━━━━━━━━━━━━\u001b[0m\u001b[37m\u001b[0m \u001b[1m1s\u001b[0m 35ms/step - accuracy: 0.1298 - loss: 2.2984\n",
            "EfficientNet Test Loss: 2.3008\n",
            "EfficientNet Test Accuracy: 0.1170\n"
          ]
        }
      ]
    },
    {
      "cell_type": "markdown",
      "source": [
        "## 🔁 BiT (Big Transfer) Model Implementation\n",
        "\n",
        "In this section, we implement a **BiT-style transfer learning model** for classifying **MNIST digits**, using **ResNet50V2** as a practical substitute for Google’s Big Transfer (BiT) architecture.\n",
        "\n",
        "---\n",
        "\n",
        "### 💡 Why Use ResNet50V2 as a BiT Substitute?\n",
        "\n",
        "- **BiT** uses large-scale pre-training and fine-tuning to transfer knowledge across domains.\n",
        "- **ResNet50V2**, pre-trained on ImageNet, follows the same principle with deep residual learning and is widely accessible via Keras.\n",
        "- It provides a realistic and efficient alternative to the original BiT implementation.\n",
        "\n",
        "---\n",
        "\n",
        "### 🛠️ Implementation Overview\n",
        "\n",
        "- Load **ResNet50V2** with `include_top=False` to remove the original classification head.\n",
        "- Freeze the convolutional base during the first training phase.\n",
        "- Add a custom head with:\n",
        "  - `GlobalAveragePooling2D`\n",
        "  - Fully connected `Dense` layer(s) with `ReLU`\n",
        "  - Final `Dense(10, activation='softmax')` layer for the 10 MNIST classes\n",
        "- Compile the model with:\n",
        "  - `Adam` optimizer\n",
        "  - `SparseCategoricalCrossentropy` loss\n",
        "  - Accuracy as a performance metric\n",
        "\n",
        "---\n",
        "\n",
        "This BiT-inspired setup allows us to explore how well **residual networks and large-scale pre-training** transfer to simpler domains like handwritten digit classification.\n"
      ],
      "metadata": {
        "id": "0nzXmAnOGYrD"
      }
    },
    {
      "cell_type": "code",
      "source": [
        "# Implement BiT (Big Transfer) for comparison\n",
        "def build_bit_model(input_shape=(224, 224, 3), num_classes=10):\n",
        "    # Load a pre-trained ResNet50 as a substitute for BiT\n",
        "    # (Since full BiT models are large and may cause memory issues)\n",
        "    base_model = tf.keras.applications.ResNet50V2(\n",
        "        weights='imagenet',\n",
        "        include_top=False,\n",
        "        input_shape=input_shape,\n",
        "        pooling='avg'\n",
        "    )\n",
        "\n",
        "    # Freeze the base model\n",
        "    base_model.trainable = False\n",
        "\n",
        "    # Create a new model\n",
        "    inputs = keras.Input(shape=input_shape)\n",
        "    x = base_model(inputs, training=False)\n",
        "    x = layers.Dense(512, activation='relu')(x)\n",
        "    x = layers.Dropout(0.3)(x)\n",
        "    outputs = layers.Dense(num_classes, activation='softmax')(x)\n",
        "\n",
        "    model = keras.Model(inputs, outputs)\n",
        "\n",
        "    # Compile the model\n",
        "    model.compile(\n",
        "        optimizer=keras.optimizers.Adam(learning_rate=1e-4),\n",
        "        loss='categorical_crossentropy',\n",
        "        metrics=['accuracy']\n",
        "    )\n",
        "\n",
        "    return model\n",
        "\n",
        "# Create and train BiT model\n",
        "bit_model = build_bit_model()\n",
        "print(\"BiT model created successfully\")\n",
        "\n",
        "# Train for just a few epochs for demonstration\n",
        "print(\"Starting BiT model training...\")\n",
        "bit_history = bit_model.fit(\n",
        "    train_ds,\n",
        "    validation_data=test_ds,\n",
        "    epochs=3,\n",
        "    verbose=1\n",
        ")\n",
        "\n",
        "# Evaluate the model\n",
        "bit_results = bit_model.evaluate(test_ds)\n",
        "print(f\"BiT Test Loss: {bit_results[0]:.4f}\")\n",
        "print(f\"BiT Test Accuracy: {bit_results[1]:.4f}\")"
      ],
      "metadata": {
        "colab": {
          "base_uri": "https://localhost:8080/"
        },
        "id": "5T-rqR3qFW__",
        "outputId": "5bf2257a-3172-4d1e-f71f-735e27deb1e0"
      },
      "execution_count": 4,
      "outputs": [
        {
          "output_type": "stream",
          "name": "stdout",
          "text": [
            "Downloading data from https://storage.googleapis.com/tensorflow/keras-applications/resnet/resnet50v2_weights_tf_dim_ordering_tf_kernels_notop.h5\n",
            "\u001b[1m94668760/94668760\u001b[0m \u001b[32m━━━━━━━━━━━━━━━━━━━━\u001b[0m\u001b[37m\u001b[0m \u001b[1m0s\u001b[0m 0us/step\n",
            "BiT model created successfully\n",
            "Starting BiT model training...\n",
            "Epoch 1/3\n",
            "\u001b[1m157/157\u001b[0m \u001b[32m━━━━━━━━━━━━━━━━━━━━\u001b[0m\u001b[37m\u001b[0m \u001b[1m41s\u001b[0m 171ms/step - accuracy: 0.4829 - loss: 1.5636 - val_accuracy: 0.8700 - val_loss: 0.5332\n",
            "Epoch 2/3\n",
            "\u001b[1m157/157\u001b[0m \u001b[32m━━━━━━━━━━━━━━━━━━━━\u001b[0m\u001b[37m\u001b[0m \u001b[1m18s\u001b[0m 77ms/step - accuracy: 0.8478 - loss: 0.5181 - val_accuracy: 0.9130 - val_loss: 0.3328\n",
            "Epoch 3/3\n",
            "\u001b[1m157/157\u001b[0m \u001b[32m━━━━━━━━━━━━━━━━━━━━\u001b[0m\u001b[37m\u001b[0m \u001b[1m21s\u001b[0m 81ms/step - accuracy: 0.9060 - loss: 0.3385 - val_accuracy: 0.9260 - val_loss: 0.2646\n",
            "\u001b[1m32/32\u001b[0m \u001b[32m━━━━━━━━━━━━━━━━━━━━\u001b[0m\u001b[37m\u001b[0m \u001b[1m2s\u001b[0m 65ms/step - accuracy: 0.9159 - loss: 0.3065\n",
            "BiT Test Loss: 0.2646\n",
            "BiT Test Accuracy: 0.9260\n"
          ]
        }
      ]
    },
    {
      "cell_type": "markdown",
      "source": [
        "## 🌀 ConvNeXt Implementation\n",
        "\n",
        "This section implements a **simplified version of ConvNeXt**, a modern convolutional neural network architecture, adapted for the **MNIST digit classification** task.\n",
        "\n",
        "---\n",
        "\n",
        "### 💡 What is ConvNeXt?\n",
        "\n",
        "**ConvNeXt** is a next-generation convolutional architecture inspired by Transformer design patterns. It incorporates:\n",
        "\n",
        "- **Layer Normalization**\n",
        "- **GELU activation**\n",
        "- **Depthwise convolutions**\n",
        "- **Residual connections**\n",
        "\n",
        "These components help ConvNeXt achieve **state-of-the-art performance** on image classification benchmarks.\n",
        "\n",
        "---\n",
        "\n",
        "### 🛠️ Simplified ConvNeXt for MNIST\n",
        "\n",
        "Given MNIST's small grayscale input size and low complexity:\n",
        "\n",
        "- We use **fewer blocks and filters** than a full ConvNeXt implementation.\n",
        "- The model includes:\n",
        "  - Depthwise separable or large-kernel convolutions\n",
        "  - `LayerNormalization` and `GELU`\n",
        "  - **Residual connections** to stabilize training\n",
        "  - A final `GlobalAveragePooling2D` and `Dense(10, activation='softmax')` classifier\n",
        "\n",
        "---\n",
        "\n",
        "This lightweight ConvNeXt serves as a **research-friendly testbed** for evaluating modern CNN principles on a fundamental image classification task.\n"
      ],
      "metadata": {
        "id": "0TaJ6KqwGnzc"
      }
    },
    {
      "cell_type": "code",
      "source": [
        "# A simplified ConvNeXt-inspired implementation\n",
        "def build_convnext_model(input_shape=(224, 224, 3), num_classes=10):\n",
        "    inputs = keras.Input(shape=input_shape)\n",
        "\n",
        "    # Initial stem block\n",
        "    x = layers.Conv2D(64, kernel_size=4, strides=4, padding=\"same\")(inputs)\n",
        "    x = layers.LayerNormalization(epsilon=1e-6)(x)\n",
        "\n",
        "    # ConvNeXt blocks (simplified)\n",
        "    for filters in [128, 256, 512]:\n",
        "        # Downsample\n",
        "        prev_x = layers.Conv2D(filters, kernel_size=2, strides=2, padding=\"same\")(x)\n",
        "        prev_x = layers.LayerNormalization(epsilon=1e-6)(prev_x)\n",
        "\n",
        "        # Depthwise Conv\n",
        "        x = layers.DepthwiseConv2D(kernel_size=7, padding=\"same\")(prev_x)\n",
        "        x = layers.LayerNormalization(epsilon=1e-6)(x)\n",
        "\n",
        "        # Pointwise Conv (1x1)\n",
        "        x = layers.Conv2D(filters * 4, kernel_size=1)(x)\n",
        "        x = layers.Activation(\"gelu\")(x)\n",
        "\n",
        "        # Pointwise Conv (1x1)\n",
        "        x = layers.Conv2D(filters, kernel_size=1)(x)\n",
        "\n",
        "        # Skip connection\n",
        "        x = layers.add([x, prev_x])\n",
        "\n",
        "    # Global pooling and final classifier\n",
        "    x = layers.GlobalAveragePooling2D()(x)\n",
        "    x = layers.LayerNormalization(epsilon=1e-6)(x)\n",
        "    x = layers.Dropout(0.2)(x)\n",
        "    outputs = layers.Dense(num_classes, activation=\"softmax\")(x)\n",
        "\n",
        "    model = keras.Model(inputs=inputs, outputs=outputs)\n",
        "\n",
        "    # Compile the model\n",
        "    model.compile(\n",
        "        optimizer=keras.optimizers.Adam(1e-4),\n",
        "        loss=\"categorical_crossentropy\",\n",
        "        metrics=[\"accuracy\"],\n",
        "    )\n",
        "\n",
        "    return model\n",
        "\n",
        "# Create and train ConvNeXt model\n",
        "convnext_model = build_convnext_model()\n",
        "print(\"ConvNeXt model created successfully\")\n",
        "\n",
        "# Train for just a few epochs for demonstration\n",
        "print(\"Starting ConvNeXt model training...\")\n",
        "convnext_history = convnext_model.fit(\n",
        "    train_ds,\n",
        "    validation_data=test_ds,\n",
        "    epochs=2,\n",
        "    verbose=1\n",
        ")\n",
        "\n",
        "# Evaluate the model\n",
        "convnext_results = convnext_model.evaluate(test_ds)\n",
        "print(f\"ConvNeXt Test Loss: {convnext_results[0]:.4f}\")\n",
        "print(f\"ConvNeXt Test Accuracy: {convnext_results[1]:.4f}\")"
      ],
      "metadata": {
        "colab": {
          "base_uri": "https://localhost:8080/"
        },
        "id": "RqqTkU9rGaSr",
        "outputId": "237164fd-688b-4b44-de09-9aabb7ed4be4"
      },
      "execution_count": 5,
      "outputs": [
        {
          "output_type": "stream",
          "name": "stdout",
          "text": [
            "ConvNeXt model created successfully\n",
            "Starting ConvNeXt model training...\n",
            "Epoch 1/2\n",
            "\u001b[1m157/157\u001b[0m \u001b[32m━━━━━━━━━━━━━━━━━━━━\u001b[0m\u001b[37m\u001b[0m \u001b[1m36s\u001b[0m 128ms/step - accuracy: 0.3052 - loss: 2.1152 - val_accuracy: 0.8190 - val_loss: 0.6287\n",
            "Epoch 2/2\n",
            "\u001b[1m157/157\u001b[0m \u001b[32m━━━━━━━━━━━━━━━━━━━━\u001b[0m\u001b[37m\u001b[0m \u001b[1m18s\u001b[0m 44ms/step - accuracy: 0.8101 - loss: 0.6008 - val_accuracy: 0.8830 - val_loss: 0.3995\n",
            "\u001b[1m32/32\u001b[0m \u001b[32m━━━━━━━━━━━━━━━━━━━━\u001b[0m\u001b[37m\u001b[0m \u001b[1m1s\u001b[0m 20ms/step - accuracy: 0.8793 - loss: 0.4646\n",
            "ConvNeXt Test Loss: 0.3995\n",
            "ConvNeXt Test Accuracy: 0.8830\n"
          ]
        }
      ]
    },
    {
      "cell_type": "markdown",
      "source": [
        "## 📊 Model Comparison Visualization\n",
        "\n",
        "In this section, we visualize and compare the performance of the three implemented models—**EfficientNetB0**, **ResNet50V2 (BiT-style substitute)**, and **ConvNeXt (simplified)**—on the **MNIST dataset**.\n",
        "\n",
        "---\n",
        "\n",
        "### 📈 What We Visualize:\n",
        "\n",
        "1. **Training vs. Validation Accuracy Curves**\n",
        "   - Track how well each model learns over time.\n",
        "   - Compare generalization performance to unseen data.\n",
        "\n",
        "2. **Training vs. Validation Loss Curves**\n",
        "   - Visualize the convergence behavior.\n",
        "   - Detect signs of overfitting or underfitting across models.\n",
        "\n",
        "3. **Final Test Accuracy Comparison**\n",
        "   - Display a **bar chart** comparing the test accuracy of all models.\n",
        "   - Highlight the best-performing architecture for MNIST digit recognition.\n",
        "\n",
        "---\n",
        "\n",
        "### 🎯 Purpose\n",
        "\n",
        "These visualizations help us:\n",
        "\n",
        "- Analyze the **efficacy of transfer learning** on a simple dataset\n",
        "- Compare **modern CNN architectures** in a controlled environment\n",
        "- Identify which models are most suitable for digit classification tasks in terms of **accuracy** and **training dynamics**\n",
        "\n",
        "Visual performance benchmarking is a key step in understanding model behavior and making informed architecture choices.\n"
      ],
      "metadata": {
        "id": "GB_6GBWQHGMf"
      }
    },
    {
      "cell_type": "code",
      "source": [
        "# Create a bar chart to compare model accuracies\n",
        "import matplotlib.pyplot as plt\n",
        "\n",
        "# Collect test accuracies\n",
        "model_names = ['EfficientNet', 'BiT', 'ConvNeXt']\n",
        "accuracies = [efficientnet_results[1], bit_results[1], convnext_results[1]]\n",
        "\n",
        "# Create the visualization\n",
        "plt.figure(figsize=(10, 6))\n",
        "plt.bar(model_names, accuracies, color=['blue', 'green', 'red'])\n",
        "plt.title('Model Comparison on MNIST Dataset')\n",
        "plt.xlabel('Model')\n",
        "plt.ylabel('Test Accuracy')\n",
        "plt.ylim(0, 1.0)\n",
        "\n",
        "# Add accuracy values on top of the bars\n",
        "for i, acc in enumerate(accuracies):\n",
        "    plt.text(i, acc + 0.01, f'{acc:.4f}', ha='center')\n",
        "\n",
        "plt.grid(axis='y', linestyle='--', alpha=0.7)\n",
        "plt.tight_layout()\n",
        "plt.show()\n",
        "\n",
        "# Let's also save the best model\n",
        "best_model_index = accuracies.index(max(accuracies))\n",
        "best_model_name = model_names[best_model_index]\n",
        "print(f\"Best performing model: {best_model_name} with accuracy: {max(accuracies):.4f}\")\n",
        "\n",
        "# Save the best model weights (commented out in this demo)\n",
        "# If running in actual colab, you could uncomment this\n",
        "# if best_model_name == 'EfficientNet':\n",
        "#     efficientnet_model.save_weights('best_model_mnist.h5')\n",
        "# elif best_model_name == 'BiT':\n",
        "#     bit_model.save_weights('best_model_mnist.h5')\n",
        "# else:\n",
        "#     convnext_model.save_weights('best_model_mnist.h5')"
      ],
      "metadata": {
        "colab": {
          "base_uri": "https://localhost:8080/",
          "height": 625
        },
        "id": "FRFQg4oZG02q",
        "outputId": "edcdd806-697b-43c1-8a26-e134e7e6ae41"
      },
      "execution_count": 6,
      "outputs": [
        {
          "output_type": "display_data",
          "data": {
            "text/plain": [
              "<Figure size 1000x600 with 1 Axes>"
            ],
            "image/png": "[encoded data removed]"
          },
          "metadata": {}
        },
        {
          "output_type": "stream",
          "name": "stdout",
          "text": [
            "Best performing model: BiT with accuracy: 0.9260\n"
          ]
        }
      ]
    }
  ]
}